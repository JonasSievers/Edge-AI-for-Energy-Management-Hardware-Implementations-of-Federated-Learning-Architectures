{
 "cells": [
  {
   "cell_type": "markdown",
   "metadata": {},
   "source": [
    "# Load data from the AVT smart lab\n",
    "\n",
    "This script should collect the electricity data from 11 sensors of the Technikhaus. The machines include: \n",
    "- Th01: Drehmaschine\n",
    "- Th02:\tDrehmaschine\n",
    "- Th03:\tDrehfräse\n",
    "- Th04:\tFräsmaschine\n",
    "- Th05:\tDrahterodiermaschine\n",
    "- Th06:\t5-Achsen-Fräse\n",
    "- Th07:\t5-Achsen-Fräse\n",
    "- Th08:\t5-Achsen-Fräse\n",
    "- Th09:\tDrehmaschine\n",
    "- Th10:\tWater chiller\n",
    "- Th11:\tFlüssigkeitskühler\n",
    "\n",
    "Selected measured values are: current, voltage, power, harmonics, etc. "
   ]
  },
  {
   "cell_type": "markdown",
   "metadata": {},
   "source": [
    "# ToDo: \n",
    "- Sollen die Daten von der IPE Datenbank oder den Sensoren kommen?\n",
    "- Falls Sensoren: Welche IP-Adressen haben die?"
   ]
  },
  {
   "cell_type": "code",
   "execution_count": null,
   "metadata": {},
   "outputs": [],
   "source": []
  }
 ],
 "metadata": {
  "language_info": {
   "name": "python"
  }
 },
 "nbformat": 4,
 "nbformat_minor": 2
}
