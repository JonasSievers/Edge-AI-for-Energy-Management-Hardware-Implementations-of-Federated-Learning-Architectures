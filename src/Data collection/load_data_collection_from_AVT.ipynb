{
 "cells": [
  {
   "cell_type": "markdown",
   "metadata": {},
   "source": [
    "# Load data from the AVT smart lab\n",
    "\n",
    "This script should collect the electricity data from 13 sensors of the AVT. The machines include: \n",
    "- AVT01\tpick and place machine\n",
    "- AVT02\tsolader oven\n",
    "- AVT03\twashing machine\n",
    "- AVT04\tSiebdruck\n",
    "- AVT05\tvacuum pump1\n",
    "- AVT06\tvacuum pump2\n",
    "- AVT07\t1 PEO 603\n",
    "- AVT08\tSRO 700\n",
    "- AVT09\tchip saw\n",
    "- AVT10\tLeiterplattenpresse\n",
    "- AVT11\ttotal load\n",
    "- AVT12\tpump station\n",
    "- AVT13\tpump station\n",
    "\n",
    "Selected measured values are: current, voltage, power, harmonics, etc. "
   ]
  },
  {
   "cell_type": "markdown",
   "metadata": {},
   "source": [
    "# ToDo: \n",
    "- Sollen die Daten von der IPE Datenbank oder den Sensoren kommen?\n",
    "- Falls Sensoren: Welche IP-Adressen haben die?"
   ]
  }
 ],
 "metadata": {
  "language_info": {
   "name": "python"
  }
 },
 "nbformat": 4,
 "nbformat_minor": 2
}
