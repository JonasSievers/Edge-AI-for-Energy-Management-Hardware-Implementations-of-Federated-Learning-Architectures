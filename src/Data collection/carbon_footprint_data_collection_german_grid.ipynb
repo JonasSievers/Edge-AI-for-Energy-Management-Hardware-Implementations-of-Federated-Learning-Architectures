{
 "cells": [
  {
   "cell_type": "code",
   "execution_count": 39,
   "metadata": {},
   "outputs": [],
   "source": [
    "import requests\n",
    "from bs4 import BeautifulSoup\n",
    "import pandas as pd\n",
    "from datetime import datetime, timedelta\n",
    "import pytz\n",
    "pd.set_option('display.max_columns', None)\n",
    "pd.set_option('display.max_rows', None)"
   ]
  },
  {
   "cell_type": "markdown",
   "metadata": {},
   "source": [
    "# Import data from ENTSOE\n",
    "\n",
    "Warning! The data of ENTSOE is actualised every day at 14:00 CEST. The server isn't available at this time +- 5 minutes!\n",
    "\n",
    "https://transparency.entsoe.eu/generation/r2/actualGenerationPerProductionType/show?name=&defaultValue=false&viewType=GRAPH&areaType=CTY&atch=false&datepicker-day-offset-select-dv-date-from_input=D&dateTime.dateTime=04.04.2024%2000:00|CET%7CDAYTIMERANGE&dateTime.endDateTime=04.04.2024%2000:00|CET%7CDAYTIMERANGE&area.values=CTY%7C10Y1001A1001A83F!CTY%7C10Y1001A1001A83F&productionType.values=B01&productionType.values=B02&productionType.values=B03&productionType.values=B04&productionType.values=B05&productionType.values=B06&productionType.values=B07&productionType.values=B08&productionType.values=B09&productionType.values=B10&productionType.values=B11&productionType.values=B12&productionType.values=B13&productionType.values=B14&productionType.values=B20&productionType.values=B15&productionType.values=B16&productionType.values=B17&productionType.values=B18&productionType.values=B19&dateTime.timezone=CET_CEST&dateTime.timezone_input=CET+(UTC+1)+/+CEST+(UTC+2)"
   ]
  },
  {
   "cell_type": "code",
   "execution_count": 40,
   "metadata": {},
   "outputs": [],
   "source": [
    "# Get the current date\n",
    "current_date = datetime.now()\n",
    "# Format the date as dd.mm.yyyy\n",
    "formatted_date_today = current_date.strftime(\"%d.%m.%Y\")\n",
    "formatted_date_today = \"03.04.2024\"\n",
    "\n",
    "\n",
    "# URL of the webpage containing the table\n",
    "url = f\"https://transparency.entsoe.eu/generation/r2/actualGenerationPerProductionType/show?name=&defaultValue=false&viewType=TABLE&areaType=CTY&atch=false&datepicker-day-offset-select-dv-date-from_input=D&dateTime.dateTime={formatted_date_today}+00:00|CET|DAYTIMERANGE&dateTime.endDateTime={formatted_date_today}+00:00|CET|DAYTIMERANGE&area.values=CTY|10Y1001A1001A83F!CTY|10Y1001A1001A83F&productionType.values=B01&productionType.values=B02&productionType.values=B03&productionType.values=B04&productionType.values=B05&productionType.values=B06&productionType.values=B07&productionType.values=B08&productionType.values=B09&productionType.values=B10&productionType.values=B11&productionType.values=B12&productionType.values=B13&productionType.values=B14&productionType.values=B20&productionType.values=B15&productionType.values=B16&productionType.values=B17&productionType.values=B18&productionType.values=B19&dateTime.timezone=CET_CEST&dateTime.timezone_input=CET+(UTC+1)+/+CEST+(UTC+2)\"\n",
    "\n",
    "# Send a GET request to fetch the webpage content\n",
    "response = requests.get(url)\n",
    "\n",
    "# Parse the HTML content using BeautifulSoup\n",
    "soup = BeautifulSoup(response.text, 'html.parser')\n",
    "\n",
    "# Find all tables in the HTML\n",
    "tables = soup.find_all('table')\n",
    "\n",
    "# Iterate through each table to find the one containing \"Biomass\"\n",
    "target_table = None\n",
    "for table in tables:\n",
    "    if \"Biomass\" in table.get_text():\n",
    "        target_table = table\n",
    "        break\n",
    "\n",
    "if target_table:\n",
    "    # Convert the HTML table to a pandas DataFrame\n",
    "    df = pd.read_html(str(target_table))[0]\n",
    "\n",
    "    # Replace \"n/e\" with NaN\n",
    "    df.replace('n/e', pd.NA, inplace=True)\n",
    "\n",
    "    # Print the DataFrame\n",
    "    # print(df)\n",
    "    df.to_csv(\"../../data/carbon_footprint_data.csv\", sep=';', header=True,index=False)\n",
    "    \n",
    "else:\n",
    "    print(\"No table containing 'Biomass' found on the webpage.\")"
   ]
  },
  {
   "cell_type": "code",
   "execution_count": 41,
   "metadata": {},
   "outputs": [],
   "source": [
    "df = pd.read_csv(\"../../data/carbon_footprint_data.csv\", sep=\";\",header=1)\n",
    "df = df.iloc[3:]\n",
    "# Reset the index after dropping rows\n",
    "df.reset_index(drop=True, inplace=True)\n",
    "df[['start', 'end']] = df['MTU'].str.split(' - ', expand=True)\n",
    "\n",
    "\n",
    "# Get the current date and time in CET timezone\n",
    "current_datetime_cet = datetime.now(pytz.timezone('Europe/Paris'))\n",
    "\n",
    "# Extract the date part\n",
    "current_date = current_datetime_cet.date()\n",
    "\n",
    "# Convert the \"start\" column to datetime format with the current date\n",
    "df['start_datetime'] = pd.to_datetime(current_date.strftime(\"%Y-%m-%d\") + ' ' + df['start'])\n",
    "df['start_datetime'] = df['start_datetime'].dt.tz_localize('Europe/Paris')\n",
    "\n",
    "# Convert the datetime to Unix timestamp\n",
    "df['start_unix_timestamp'] = df['start_datetime'].astype(int) / 10**9  # Convert nanoseconds to seconds\n",
    "\n",
    "# Convert the \"start\" column to datetime format with the current date\n",
    "df['end_datetime'] = pd.to_datetime(current_date.strftime(\"%Y-%m-%d\") + ' ' + df['end'])\n",
    "df['end_datetime'] = df['end_datetime'].dt.tz_localize('Europe/Paris')\n",
    "\n",
    "# Convert the datetime to Unix timestamp\n",
    "df['end_unix_timestamp'] = df['end_datetime'].astype(int) / 10**9  # Convert nanoseconds to seconds\n",
    "\n",
    "df.to_csv(\"../../data/carbon_footprint_data.csv\", sep=';', header=True,index=False)\n"
   ]
  }
 ],
 "metadata": {
  "kernelspec": {
   "display_name": "Python 3",
   "language": "python",
   "name": "python3"
  },
  "language_info": {
   "codemirror_mode": {
    "name": "ipython",
    "version": 3
   },
   "file_extension": ".py",
   "mimetype": "text/x-python",
   "name": "python",
   "nbconvert_exporter": "python",
   "pygments_lexer": "ipython3",
   "version": "3.8.10"
  }
 },
 "nbformat": 4,
 "nbformat_minor": 2
}
